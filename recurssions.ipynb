{
  "nbformat": 4,
  "nbformat_minor": 0,
  "metadata": {
    "colab": {
      "provenance": [],
      "authorship_tag": "ABX9TyOYpsfK4Yq2M68yGaS2h9mc",
      "include_colab_link": true
    },
    "kernelspec": {
      "name": "python3",
      "display_name": "Python 3"
    },
    "language_info": {
      "name": "python"
    }
  },
  "cells": [
    {
      "cell_type": "markdown",
      "metadata": {
        "id": "view-in-github",
        "colab_type": "text"
      },
      "source": [
        "<a href=\"https://colab.research.google.com/github/Shvetankreddy/hiii/blob/main/recurssions.ipynb\" target=\"_parent\"><img src=\"https://colab.research.google.com/assets/colab-badge.svg\" alt=\"Open In Colab\"/></a>"
      ]
    },
    {
      "cell_type": "code",
      "source": [
        "def fact(n):\n",
        "  if n == 0:\n",
        "    return 1\n",
        "  elif n < 0 :\n",
        "    return 0\n",
        "\n",
        "  return n * fact(n -1)\n",
        "r = fact(-6)\n",
        "print(r)"
      ],
      "metadata": {
        "id": "8vZ_RFAQFJbT",
        "colab": {
          "base_uri": "https://localhost:8080/"
        },
        "outputId": "ae1ea70d-5864-4c41-941f-f6faf6828fdc"
      },
      "execution_count": null,
      "outputs": [
        {
          "output_type": "stream",
          "name": "stdout",
          "text": [
            "0\n"
          ]
        }
      ]
    },
    {
      "cell_type": "code",
      "source": [
        "def maxsum(nums):\n",
        "  if len(nums) == 0:\n",
        "    return 0\n",
        "  elif len(nums) == 1:\n",
        "    return nums[0]\n",
        "  include = nums[0] + maxsum(nums[2:])\n",
        "  exclude = maxsum(nums[1:])\n",
        "\n",
        "  return max(include , exclude )\n",
        "\n",
        "r = maxsum([2,4,6,2,5])\n",
        "print(r)"
      ],
      "metadata": {
        "colab": {
          "base_uri": "https://localhost:8080/"
        },
        "id": "IcB_ioYnKfwj",
        "outputId": "70de6392-fa37-499b-a0b8-e862ff64af99"
      },
      "execution_count": null,
      "outputs": [
        {
          "output_type": "stream",
          "name": "stdout",
          "text": [
            "13\n"
          ]
        }
      ]
    },
    {
      "cell_type": "code",
      "source": [
        "def sum_of_digits(n):\n",
        "  if n == 0:\n",
        "    return 0\n",
        "  else:\n",
        "    last_digit = n % 10\n",
        "    return last_digit + sum_of_digits(n // 10)\n",
        "digit_sum = sum_of_digits(1234)\n",
        "print(digit_sum)"
      ],
      "metadata": {
        "colab": {
          "base_uri": "https://localhost:8080/"
        },
        "id": "WkGo9f4oVq5W",
        "outputId": "82c248e0-d62b-4a4f-fb04-bbb9dd69866e"
      },
      "execution_count": null,
      "outputs": [
        {
          "output_type": "stream",
          "name": "stdout",
          "text": [
            "10\n"
          ]
        }
      ]
    },
    {
      "cell_type": "code",
      "source": [
        "def string_length(text):\n",
        "  if text == \"\":\n",
        "    return 0\n",
        "  else:\n",
        "    return 1 + string_length(text[1:])\n",
        "l = string_length(\"s\")\n",
        "print(l)"
      ],
      "metadata": {
        "colab": {
          "base_uri": "https://localhost:8080/"
        },
        "id": "vkKy52_OYW9O",
        "outputId": "c7e69c40-3a7d-451d-8b64-0787c0ddebe3"
      },
      "execution_count": null,
      "outputs": [
        {
          "output_type": "stream",
          "name": "stdout",
          "text": [
            "1\n"
          ]
        }
      ]
    },
    {
      "cell_type": "code",
      "source": [
        "def sumnum(n):\n",
        "  if n == 0:\n",
        "    return 0\n",
        "  else:\n",
        "    return n + sumnum(n-1)\n",
        "\n",
        "r = sumnum(5)\n",
        "print(r)"
      ],
      "metadata": {
        "colab": {
          "base_uri": "https://localhost:8080/"
        },
        "id": "AitWNzWKZHpK",
        "outputId": "20b24ab2-fd5b-408f-9bb2-f4b7da566ce4"
      },
      "execution_count": null,
      "outputs": [
        {
          "output_type": "stream",
          "name": "stdout",
          "text": [
            "15\n"
          ]
        }
      ]
    },
    {
      "cell_type": "code",
      "source": [
        "def fib(n):\n",
        "\n",
        "  if n == 0:\n",
        "    return 0\n",
        "  elif n ==1:\n",
        "    return 1\n",
        "  else:\n",
        "    return fib(n-1) + fib(n-2)\n",
        "r = fib(5)\n",
        "print(r)"
      ],
      "metadata": {
        "colab": {
          "base_uri": "https://localhost:8080/"
        },
        "id": "vIjamyL4lniQ",
        "outputId": "a011f994-31e0-4774-88d1-af481f88c5d7"
      },
      "execution_count": null,
      "outputs": [
        {
          "output_type": "stream",
          "name": "stdout",
          "text": [
            "5\n"
          ]
        }
      ]
    },
    {
      "cell_type": "code",
      "source": [
        "def gpsum(a, r, n):\n",
        "  if n ==1:\n",
        "    return a\n",
        "  else:\n",
        "\n",
        "    return a*(1 - r**n  )/ (1-r)\n",
        "r = gpsum(2,3,5)\n",
        "print(r)\n"
      ],
      "metadata": {
        "id": "AJ3TgZQwn4cp",
        "colab": {
          "base_uri": "https://localhost:8080/"
        },
        "outputId": "a08577c1-aabf-4753-b074-db66516ab23b"
      },
      "execution_count": null,
      "outputs": [
        {
          "output_type": "stream",
          "name": "stdout",
          "text": [
            "242.0\n"
          ]
        }
      ]
    },
    {
      "cell_type": "code",
      "source": [
        "def revertexte(text):\n",
        "  if text == \"\":\n",
        "    return \"\"\n",
        "  else:\n",
        "     return revertexte(text[1:]) + text[0]\n",
        "\n",
        "r = revertexte(\"hello\")\n",
        "print(r)"
      ],
      "metadata": {
        "colab": {
          "base_uri": "https://localhost:8080/"
        },
        "id": "yVqWHA4CNaVv",
        "outputId": "2f37b7f7-cadf-465e-8e03-4d4a4fb04671"
      },
      "execution_count": null,
      "outputs": [
        {
          "output_type": "stream",
          "name": "stdout",
          "text": [
            "olleh\n"
          ]
        }
      ]
    },
    {
      "cell_type": "code",
      "source": [
        "def power(n,k):\n",
        "  if n == 0:\n",
        "    return 0\n",
        "  elif k == 0:\n",
        "    return 1\n",
        "  else:\n",
        "    return n * power(n,k-1)\n",
        "r = power(2,3)\n",
        "print(r)"
      ],
      "metadata": {
        "colab": {
          "base_uri": "https://localhost:8080/"
        },
        "id": "24CYYgMOPBfy",
        "outputId": "560ccedd-5dcf-44bc-a093-4b50b5d6a735"
      },
      "execution_count": null,
      "outputs": [
        {
          "output_type": "stream",
          "name": "stdout",
          "text": [
            "16\n"
          ]
        }
      ]
    },
    {
      "cell_type": "code",
      "source": [
        "def firstup(text):\n",
        "  if text == \" \":\n",
        "    return \"\"\n",
        "  elif text[0].isupper():\n",
        "    return text[0]\n",
        "  else:\n",
        "    return firstup(text[1:])\n",
        "print(firstup(\"hellloW\"))"
      ],
      "metadata": {
        "colab": {
          "base_uri": "https://localhost:8080/"
        },
        "id": "b5MGgDTgU49p",
        "outputId": "e1a60477-c143-416b-92e5-81e63d0c276a"
      },
      "execution_count": null,
      "outputs": [
        {
          "output_type": "stream",
          "name": "stdout",
          "text": [
            "W\n"
          ]
        }
      ]
    },
    {
      "cell_type": "markdown",
      "source": [],
      "metadata": {
        "id": "KJZ0EKv9Ys7y"
      }
    },
    {
      "cell_type": "code",
      "source": [
        "w1 = \"abcde\"\n",
        "w2 = \"abdfe\"\n",
        "if len(w1) == len(w2):\n",
        "  for i in len(w1):\n"
      ],
      "metadata": {
        "id": "pW5vFdolXFbr"
      },
      "execution_count": null,
      "outputs": []
    },
    {
      "cell_type": "code",
      "source": [
        "def longest_palindrome(text):\n",
        "  if len(text) <= 1:\n",
        "    return text  # Base case: single character or empty string is a palindrome\n",
        "\n",
        "  def helper(start, end):\n",
        "    if start > end:\n",
        "      return \"\"  # Empty string if start goes beyond end\n",
        "    if start == end:\n",
        "      return text[start]\n",
        "    if text[start] == text[end]:\n",
        "      return text[start] + helper(start + 1, end - 1) + text[end]\n",
        "    else:\n",
        "      option1 = helper(start + 1, end)\n",
        "      option2 = helper(start, end - 1)\n",
        "      return max(option1, option2, key=len)\n",
        "  return helper(0, len(text) - 1)\n",
        "\n",
        "text = \"abaxyzzyx\"\n",
        "print(longest_palindrome(text))  # Output: \"bab\"\n",
        "\n"
      ],
      "metadata": {
        "colab": {
          "base_uri": "https://localhost:8080/"
        },
        "id": "TwUwRbHQUIjv",
        "outputId": "1f820ec3-311d-427f-a40d-2f35082b4a3d"
      },
      "execution_count": null,
      "outputs": [
        {
          "output_type": "stream",
          "name": "stdout",
          "text": [
            "xyzzyx\n"
          ]
        }
      ]
    },
    {
      "cell_type": "code",
      "source": [
        "num = 0\n",
        "while num <= 10:\n",
        "  num+=1\n",
        "  print(num)"
      ],
      "metadata": {
        "id": "mRuVtRseU-E7"
      },
      "execution_count": null,
      "outputs": []
    },
    {
      "cell_type": "code",
      "source": [
        "input_value = int(input(\"enter a intg\"))\n",
        "while input_value != 0:\n",
        "\n",
        "  print(input_value)\n",
        "  input_value = int(input(\"enter a intg\"))\n",
        "print(\"Exiting the loop\")"
      ],
      "metadata": {
        "id": "aRK2apSvv-zP"
      },
      "execution_count": null,
      "outputs": []
    },
    {
      "cell_type": "code",
      "source": [
        "num = int(input(\"enter a integer\"))\n",
        "factorial = 1\n",
        "currentnum = 1\n",
        "while currentnum <=num:\n",
        "  factorial *= currentnum\n",
        "  currentnum +=1\n",
        "print(factorial)"
      ],
      "metadata": {
        "id": "OVCOXFkQrQTc"
      },
      "execution_count": null,
      "outputs": []
    }
  ]
}